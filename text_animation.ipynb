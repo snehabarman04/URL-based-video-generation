{
  "nbformat": 4,
  "nbformat_minor": 0,
  "metadata": {
    "colab": {
      "provenance": [],
      "gpuType": "T4"
    },
    "kernelspec": {
      "name": "python3",
      "display_name": "Python 3"
    },
    "language_info": {
      "name": "python"
    },
    "accelerator": "GPU"
  },
  "cells": [
    {
      "cell_type": "code",
      "execution_count": 9,
      "metadata": {
        "colab": {
          "base_uri": "https://localhost:8080/"
        },
        "id": "sA0cWBA5Iw5m",
        "outputId": "6e7895fc-5aed-4e7a-89dc-34541455fecf"
      },
      "outputs": [
        {
          "output_type": "stream",
          "name": "stdout",
          "text": [
            "Requirement already satisfied: pillow in /usr/local/lib/python3.10/dist-packages (11.0.0)\n"
          ]
        }
      ],
      "source": [
        "!pip install pillow"
      ]
    },
    {
      "cell_type": "code",
      "source": [
        "from PIL import Image, ImageDraw, ImageFont\n",
        "\n",
        "font = ImageFont.load_default()\n",
        "frames = []\n",
        "for i in range(10):\n",
        "    img = Image.new(\"RGB\", (400, 200), color=(255, 255, 255))\n",
        "    draw = ImageDraw.Draw(img)\n",
        "    draw.text((10 + i * 10, 80), \"This text is moving sideways\", font=font, fill=(0, 0, 0))\n",
        "    frames.append(img)\n",
        "\n",
        "frames[0].save(\n",
        "    \"text_animation.gif\", save_all=True, append_images=frames[1:], duration=100, loop=0\n",
        ")\n"
      ],
      "metadata": {
        "id": "waH7Fwc3I8C8"
      },
      "execution_count": 10,
      "outputs": []
    },
    {
      "cell_type": "code",
      "source": [
        "frames = []\n",
        "for i in range(10):\n",
        "    img = Image.new(\"RGB\", (400, 200), color=(255, 255, 255))\n",
        "    draw = ImageDraw.Draw(img)\n",
        "    y_position = 10 + i * 20\n",
        "    draw.text((80, y_position), \"Moving Text vertically\", font=font, fill=(0, 0, 0))\n",
        "    frames.append(img)\n",
        "\n",
        "frames[0].save(\n",
        "    \"moving_text.gif\", save_all=True, append_images=frames[1:], duration=100, loop=0\n",
        ")\n"
      ],
      "metadata": {
        "id": "SnJlAhhohhXu"
      },
      "execution_count": 11,
      "outputs": []
    },
    {
      "cell_type": "code",
      "source": [
        "import math\n",
        "\n",
        "frames = []\n",
        "text = \"Wavy Text\"\n",
        "for i in range(20):\n",
        "    img = Image.new(\"RGB\", (400, 200), color=(255, 255, 255))\n",
        "    draw = ImageDraw.Draw(img)\n",
        "\n",
        "    for j, char in enumerate(text):\n",
        "        y_offset = 80 + int(20 * math.sin(i + j))  # Apply sine wave offset\n",
        "        draw.text((50 + j * 20, y_offset), char, font=font, fill=(0, 0, 0))\n",
        "\n",
        "    frames.append(img)\n",
        "\n",
        "frames[0].save(\n",
        "    \"wavy_text.gif\", save_all=True, append_images=frames[1:], duration=100, loop=0\n",
        ")\n"
      ],
      "metadata": {
        "id": "4RTsgUqui-8O"
      },
      "execution_count": 12,
      "outputs": []
    },
    {
      "cell_type": "code",
      "source": [
        "frames = []\n",
        "\n",
        "text = [\"hello\", \"I am\", \"working in\", \"Jio\"]\n",
        "\n",
        "for i in range(50):\n",
        "    img = Image.new(\"RGB\", (400, 200), color=(255, 255, 255))\n",
        "    draw = ImageDraw.Draw(img)\n",
        "\n",
        "    for j, line in enumerate(text):\n",
        "        y_position = 200 - i * 5 + j * 40\n",
        "        draw.text((50, y_position), line, font=font, fill=(0, 0, 0))\n",
        "\n",
        "    frames.append(img)\n",
        "\n",
        "frames[0].save(\n",
        "    \"scrolling_text.gif\", save_all=True, append_images=frames[1:], duration=100, loop=0\n",
        ")\n"
      ],
      "metadata": {
        "id": "BqedK0tvj67U"
      },
      "execution_count": 13,
      "outputs": []
    },
    {
      "cell_type": "code",
      "source": [],
      "metadata": {
        "id": "2pH5ePSUl2gj"
      },
      "execution_count": 13,
      "outputs": []
    }
  ]
}